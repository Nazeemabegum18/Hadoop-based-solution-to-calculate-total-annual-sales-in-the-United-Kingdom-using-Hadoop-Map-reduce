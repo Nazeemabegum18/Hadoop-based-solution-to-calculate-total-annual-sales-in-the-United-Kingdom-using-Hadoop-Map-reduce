{
  "nbformat": 4,
  "nbformat_minor": 0,
  "metadata": {
    "colab": {
      "provenance": []
    },
    "kernelspec": {
      "name": "python3",
      "display_name": "Python 3"
    },
    "language_info": {
      "name": "python"
    }
  },
  "cells": [
    {
      "cell_type": "markdown",
      "source": [
        "Let's download hadoop in the virtual Linux machine allocated by Google Colab."
      ],
      "metadata": {
        "id": "VFwmtosYGJdB"
      }
    },
    {
      "cell_type": "code",
      "execution_count": 1,
      "metadata": {
        "colab": {
          "base_uri": "https://localhost:8080/"
        },
        "id": "JlEtA16tZs_a",
        "outputId": "aecb1855-5c74-40f9-c515-a716aaff7d73"
      },
      "outputs": [
        {
          "output_type": "stream",
          "name": "stdout",
          "text": [
            "--2024-04-15 06:24:25--  https://downloads.apache.org/hadoop/common/hadoop-3.3.6/hadoop-3.3.6.tar.gz\n",
            "Resolving downloads.apache.org (downloads.apache.org)... 135.181.214.104, 88.99.208.237, 2a01:4f8:10a:39da::2, ...\n",
            "Connecting to downloads.apache.org (downloads.apache.org)|135.181.214.104|:443... connected.\n",
            "HTTP request sent, awaiting response... 200 OK\n",
            "Length: 730107476 (696M) [application/x-gzip]\n",
            "Saving to: ‘hadoop-3.3.6.tar.gz’\n",
            "\n",
            "hadoop-3.3.6.tar.gz 100%[===================>] 696.28M  20.3MB/s    in 36s     \n",
            "\n",
            "2024-04-15 06:25:02 (19.5 MB/s) - ‘hadoop-3.3.6.tar.gz’ saved [730107476/730107476]\n",
            "\n"
          ]
        }
      ],
      "source": [
        "!wget https://downloads.apache.org/hadoop/common/hadoop-3.3.6/hadoop-3.3.6.tar.gz"
      ]
    },
    {
      "cell_type": "markdown",
      "source": [
        "The file we downloaded is an archive, so we need to extract the files. You can check the files in the right hand size view of the 'Files'"
      ],
      "metadata": {
        "id": "ghtLEOUqGMCv"
      }
    },
    {
      "cell_type": "code",
      "source": [
        "!tar -xzf hadoop-3.3.6.tar.gz"
      ],
      "metadata": {
        "id": "zOSZiDMPZyh0"
      },
      "execution_count": 2,
      "outputs": []
    },
    {
      "cell_type": "markdown",
      "source": [
        "Let's copy the hadoop libraries to /usr/local"
      ],
      "metadata": {
        "id": "EvC1PGADGeau"
      }
    },
    {
      "cell_type": "code",
      "source": [
        "!cp -r hadoop-3.3.6 /usr/local"
      ],
      "metadata": {
        "id": "5RE_Tzj4ZzZv"
      },
      "execution_count": 3,
      "outputs": []
    },
    {
      "cell_type": "markdown",
      "source": [],
      "metadata": {
        "id": "J-4hTTjRGjhQ"
      }
    },
    {
      "cell_type": "code",
      "source": [
        "#To find the default Java path\n",
        "!readlink -f /usr/bin/java | sed \"s:bin/java::\""
      ],
      "metadata": {
        "colab": {
          "base_uri": "https://localhost:8080/"
        },
        "id": "glRuK8V-Z3oa",
        "outputId": "f5b94e0d-38cc-47a7-e729-4ec08a946832"
      },
      "execution_count": 4,
      "outputs": [
        {
          "output_type": "stream",
          "name": "stdout",
          "text": [
            "/usr/lib/jvm/java-11-openjdk-amd64/\n"
          ]
        }
      ]
    },
    {
      "cell_type": "markdown",
      "source": [
        "To setup a the java path variable to point to the path above. In a classical Linux machine, this would be achieved by a command called EXPORT"
      ],
      "metadata": {
        "id": "5aY2W6B6Gyv2"
      }
    },
    {
      "cell_type": "code",
      "source": [
        "import os\n",
        "# BEGIN YOUR CODE HERE\n",
        "\n",
        "os.environ[\"JAVA_HOME\"] = \"/usr/lib/jvm/java-11-openjdk-amd64/\"\n",
        "\n",
        "# END YOUR CODE HERE"
      ],
      "metadata": {
        "id": "GhrgvKkGZ6w_"
      },
      "execution_count": 5,
      "outputs": []
    },
    {
      "cell_type": "markdown",
      "source": [
        "Let's test if the global JAVA_HOME variable is set to the right path"
      ],
      "metadata": {
        "id": "sSTDCuxaG5GO"
      }
    },
    {
      "cell_type": "code",
      "source": [
        "!echo $JAVA_HOME"
      ],
      "metadata": {
        "colab": {
          "base_uri": "https://localhost:8080/"
        },
        "id": "zEkJRZdsZ9bQ",
        "outputId": "cf2e56f9-fb15-4933-bd55-d0b70d72d879"
      },
      "execution_count": 6,
      "outputs": [
        {
          "output_type": "stream",
          "name": "stdout",
          "text": [
            "/usr/lib/jvm/java-11-openjdk-amd64/\n"
          ]
        }
      ]
    },
    {
      "cell_type": "markdown",
      "source": [
        "adding hadoop libraries to this PATH variable, such that no need to write every time the complete path of the hadoop program we want to run."
      ],
      "metadata": {
        "id": "m0UcCeIhG9hT"
      }
    },
    {
      "cell_type": "code",
      "source": [
        "import os\n",
        "os.environ['PATH'] += ':/usr/local/hadoop-3.3.6/bin'"
      ],
      "metadata": {
        "id": "YDVOqi7cZ_M4"
      },
      "execution_count": 7,
      "outputs": []
    },
    {
      "cell_type": "markdown",
      "source": [
        "UPDATE THE PATH"
      ],
      "metadata": {
        "id": "FQonbmJCHPO4"
      }
    },
    {
      "cell_type": "code",
      "source": [
        "!echo $PATH"
      ],
      "metadata": {
        "colab": {
          "base_uri": "https://localhost:8080/"
        },
        "id": "DCe5bHHZaBP9",
        "outputId": "25301f62-0131-4f4b-e999-617e4434472d"
      },
      "execution_count": 8,
      "outputs": [
        {
          "output_type": "stream",
          "name": "stdout",
          "text": [
            "/opt/bin:/usr/local/nvidia/bin:/usr/local/cuda/bin:/usr/local/sbin:/usr/local/bin:/usr/sbin:/usr/bin:/sbin:/bin:/tools/node/bin:/tools/google-cloud-sdk/bin:/usr/local/hadoop-3.3.6/bin\n"
          ]
        }
      ]
    },
    {
      "cell_type": "code",
      "source": [
        "!ls cleaned_supermarket.csv"
      ],
      "metadata": {
        "colab": {
          "base_uri": "https://localhost:8080/"
        },
        "id": "xnXGYdwnaDZT",
        "outputId": "dde71bca-621c-49c8-9a5f-4980162d1cbe"
      },
      "execution_count": 9,
      "outputs": [
        {
          "output_type": "stream",
          "name": "stdout",
          "text": [
            "cleaned_supermarket.csv\n"
          ]
        }
      ]
    },
    {
      "cell_type": "markdown",
      "source": [
        "UPLOADING THE MAPPER ,REDUCER AND THE .CSV FILE TO THE CONTENT FOLDER AND ADD THE PATH TO THE HADOOP JAR TO RUN THE MAP REDUCER"
      ],
      "metadata": {
        "id": "46QakYIsHY85"
      }
    },
    {
      "cell_type": "code",
      "source": [
        "!hadoop jar /usr/local/hadoop-3.3.6/share/hadoop/tools/lib/hadoop-streaming-3.3.6.jar  \\\n",
        "-files /content/map.py,/content/red.py \\\n",
        "-input /content/cleaned_supermarket.csv \\\n",
        "-output /content/output/sales\\\n",
        "-mapper 'python map.py'  \\\n",
        "-reducer 'python red.py'"
      ],
      "metadata": {
        "colab": {
          "base_uri": "https://localhost:8080/"
        },
        "id": "0TmablgqaGLx",
        "outputId": "d63abbde-a00c-41e4-e550-13190b65ab61"
      },
      "execution_count": 10,
      "outputs": [
        {
          "output_type": "stream",
          "name": "stdout",
          "text": [
            "2024-04-15 06:26:37,338 INFO impl.MetricsConfig: Loaded properties from hadoop-metrics2.properties\n",
            "2024-04-15 06:26:37,568 INFO impl.MetricsSystemImpl: Scheduled Metric snapshot period at 10 second(s).\n",
            "2024-04-15 06:26:37,568 INFO impl.MetricsSystemImpl: JobTracker metrics system started\n",
            "2024-04-15 06:26:37,602 WARN impl.MetricsSystemImpl: JobTracker metrics system already initialized!\n",
            "2024-04-15 06:26:37,981 INFO mapred.FileInputFormat: Total input files to process : 1\n",
            "2024-04-15 06:26:38,025 INFO mapreduce.JobSubmitter: number of splits:1\n",
            "2024-04-15 06:26:38,467 INFO mapreduce.JobSubmitter: Submitting tokens for job: job_local235481873_0001\n",
            "2024-04-15 06:26:38,467 INFO mapreduce.JobSubmitter: Executing with tokens: []\n",
            "2024-04-15 06:26:38,939 INFO mapred.LocalDistributedCacheManager: Localized file:/content/map.py as file:/tmp/hadoop-root/mapred/local/job_local235481873_0001_415938ed-1bec-457c-8b5b-f8bcf7b7cfaa/map.py\n",
            "2024-04-15 06:26:38,976 INFO mapred.LocalDistributedCacheManager: Localized file:/content/red.py as file:/tmp/hadoop-root/mapred/local/job_local235481873_0001_0201dac1-4e2f-42a1-b14b-3ee372a03cbd/red.py\n",
            "2024-04-15 06:26:39,099 INFO mapreduce.Job: The url to track the job: http://localhost:8080/\n",
            "2024-04-15 06:26:39,101 INFO mapreduce.Job: Running job: job_local235481873_0001\n",
            "2024-04-15 06:26:39,102 INFO mapred.LocalJobRunner: OutputCommitter set in config null\n",
            "2024-04-15 06:26:39,106 INFO mapred.LocalJobRunner: OutputCommitter is org.apache.hadoop.mapred.FileOutputCommitter\n",
            "2024-04-15 06:26:39,111 INFO output.FileOutputCommitter: File Output Committer Algorithm version is 2\n",
            "2024-04-15 06:26:39,111 INFO output.FileOutputCommitter: FileOutputCommitter skip cleanup _temporary folders under output directory:false, ignore cleanup failures: false\n",
            "2024-04-15 06:26:39,175 INFO mapred.LocalJobRunner: Waiting for map tasks\n",
            "2024-04-15 06:26:39,180 INFO mapred.LocalJobRunner: Starting task: attempt_local235481873_0001_m_000000_0\n",
            "2024-04-15 06:26:39,230 INFO output.FileOutputCommitter: File Output Committer Algorithm version is 2\n",
            "2024-04-15 06:26:39,231 INFO output.FileOutputCommitter: FileOutputCommitter skip cleanup _temporary folders under output directory:false, ignore cleanup failures: false\n",
            "2024-04-15 06:26:39,251 INFO mapred.Task:  Using ResourceCalculatorProcessTree : [ ]\n",
            "2024-04-15 06:26:39,261 INFO mapred.MapTask: Processing split: file:/content/cleaned_supermarket.csv:0+8388608\n",
            "2024-04-15 06:26:39,280 INFO mapred.MapTask: numReduceTasks: 1\n",
            "2024-04-15 06:26:39,365 INFO mapred.MapTask: (EQUATOR) 0 kvi 26214396(104857584)\n",
            "2024-04-15 06:26:39,365 INFO mapred.MapTask: mapreduce.task.io.sort.mb: 100\n",
            "2024-04-15 06:26:39,365 INFO mapred.MapTask: soft limit at 83886080\n",
            "2024-04-15 06:26:39,365 INFO mapred.MapTask: bufstart = 0; bufvoid = 104857600\n",
            "2024-04-15 06:26:39,365 INFO mapred.MapTask: kvstart = 26214396; length = 6553600\n",
            "2024-04-15 06:26:39,371 INFO mapred.MapTask: Map output collector class = org.apache.hadoop.mapred.MapTask$MapOutputBuffer\n",
            "2024-04-15 06:26:39,381 INFO streaming.PipeMapRed: PipeMapRed exec [/usr/local/bin/python, map.py]\n",
            "2024-04-15 06:26:39,391 INFO Configuration.deprecation: mapred.work.output.dir is deprecated. Instead, use mapreduce.task.output.dir\n",
            "2024-04-15 06:26:39,393 INFO Configuration.deprecation: mapred.local.dir is deprecated. Instead, use mapreduce.cluster.local.dir\n",
            "2024-04-15 06:26:39,393 INFO Configuration.deprecation: map.input.file is deprecated. Instead, use mapreduce.map.input.file\n",
            "2024-04-15 06:26:39,393 INFO Configuration.deprecation: map.input.length is deprecated. Instead, use mapreduce.map.input.length\n",
            "2024-04-15 06:26:39,394 INFO Configuration.deprecation: mapred.job.id is deprecated. Instead, use mapreduce.job.id\n",
            "2024-04-15 06:26:39,394 INFO Configuration.deprecation: mapred.task.partition is deprecated. Instead, use mapreduce.task.partition\n",
            "2024-04-15 06:26:39,396 INFO Configuration.deprecation: map.input.start is deprecated. Instead, use mapreduce.map.input.start\n",
            "2024-04-15 06:26:39,397 INFO Configuration.deprecation: mapred.task.is.map is deprecated. Instead, use mapreduce.task.ismap\n",
            "2024-04-15 06:26:39,399 INFO Configuration.deprecation: mapred.task.id is deprecated. Instead, use mapreduce.task.attempt.id\n",
            "2024-04-15 06:26:39,400 INFO Configuration.deprecation: mapred.tip.id is deprecated. Instead, use mapreduce.task.id\n",
            "2024-04-15 06:26:39,401 INFO Configuration.deprecation: mapred.skip.on is deprecated. Instead, use mapreduce.job.skiprecords\n",
            "2024-04-15 06:26:39,402 INFO Configuration.deprecation: user.name is deprecated. Instead, use mapreduce.job.user.name\n",
            "2024-04-15 06:26:39,445 INFO streaming.PipeMapRed: R/W/S=1/0/0 in:NA [rec/s] out:NA [rec/s]\n",
            "2024-04-15 06:26:39,446 INFO streaming.PipeMapRed: R/W/S=10/0/0 in:NA [rec/s] out:NA [rec/s]\n",
            "2024-04-15 06:26:39,452 INFO streaming.PipeMapRed: R/W/S=100/0/0 in:NA [rec/s] out:NA [rec/s]\n",
            "2024-04-15 06:26:39,529 INFO streaming.PipeMapRed: R/W/S=1000/0/0 in:NA [rec/s] out:NA [rec/s]\n",
            "2024-04-15 06:26:39,649 INFO streaming.PipeMapRed: R/W/S=10000/0/0 in:NA [rec/s] out:NA [rec/s]\n",
            "2024-04-15 06:26:39,775 INFO streaming.PipeMapRed: Records R/W=22906/1\n",
            "2024-04-15 06:26:39,922 INFO streaming.PipeMapRed: MRErrorThread done\n",
            "2024-04-15 06:26:39,922 INFO streaming.PipeMapRed: mapRedFinished\n",
            "2024-04-15 06:26:39,927 INFO mapred.LocalJobRunner: \n",
            "2024-04-15 06:26:39,934 INFO mapred.MapTask: Starting flush of map output\n",
            "2024-04-15 06:26:39,934 INFO mapred.MapTask: Spilling map output\n",
            "2024-04-15 06:26:39,934 INFO mapred.MapTask: bufstart = 0; bufend = 13940; bufvoid = 104857600\n",
            "2024-04-15 06:26:39,934 INFO mapred.MapTask: kvstart = 26214396(104857584); kvend = 26209164(104836656); length = 5233/6553600\n",
            "2024-04-15 06:26:39,964 INFO mapred.MapTask: Finished spill 0\n",
            "2024-04-15 06:26:39,984 INFO mapred.Task: Task:attempt_local235481873_0001_m_000000_0 is done. And is in the process of committing\n",
            "2024-04-15 06:26:39,988 INFO mapred.LocalJobRunner: Records R/W=22906/1\n",
            "2024-04-15 06:26:39,988 INFO mapred.Task: Task 'attempt_local235481873_0001_m_000000_0' done.\n",
            "2024-04-15 06:26:39,999 INFO mapred.Task: Final Counters for attempt_local235481873_0001_m_000000_0: Counters: 17\n",
            "\tFile System Counters\n",
            "\t\tFILE: Number of bytes read=8531384\n",
            "\t\tFILE: Number of bytes written=800550\n",
            "\t\tFILE: Number of read operations=0\n",
            "\t\tFILE: Number of large read operations=0\n",
            "\t\tFILE: Number of write operations=0\n",
            "\tMap-Reduce Framework\n",
            "\t\tMap input records=34787\n",
            "\t\tMap output records=1309\n",
            "\t\tMap output bytes=13940\n",
            "\t\tMap output materialized bytes=16564\n",
            "\t\tInput split bytes=89\n",
            "\t\tCombine input records=0\n",
            "\t\tSpilled Records=1309\n",
            "\t\tFailed Shuffles=0\n",
            "\t\tMerged Map outputs=0\n",
            "\t\tGC time elapsed (ms)=0\n",
            "\t\tTotal committed heap usage (bytes)=329252864\n",
            "\tFile Input Format Counters \n",
            "\t\tBytes Read=8388608\n",
            "2024-04-15 06:26:39,999 INFO mapred.LocalJobRunner: Finishing task: attempt_local235481873_0001_m_000000_0\n",
            "2024-04-15 06:26:39,999 INFO mapred.LocalJobRunner: map task executor complete.\n",
            "2024-04-15 06:26:40,003 INFO mapred.LocalJobRunner: Waiting for reduce tasks\n",
            "2024-04-15 06:26:40,004 INFO mapred.LocalJobRunner: Starting task: attempt_local235481873_0001_r_000000_0\n",
            "2024-04-15 06:26:40,016 INFO output.FileOutputCommitter: File Output Committer Algorithm version is 2\n",
            "2024-04-15 06:26:40,016 INFO output.FileOutputCommitter: FileOutputCommitter skip cleanup _temporary folders under output directory:false, ignore cleanup failures: false\n",
            "2024-04-15 06:26:40,017 INFO mapred.Task:  Using ResourceCalculatorProcessTree : [ ]\n",
            "2024-04-15 06:26:40,024 INFO mapred.ReduceTask: Using ShuffleConsumerPlugin: org.apache.hadoop.mapreduce.task.reduce.Shuffle@7f841782\n",
            "2024-04-15 06:26:40,026 WARN impl.MetricsSystemImpl: JobTracker metrics system already initialized!\n",
            "2024-04-15 06:26:40,058 INFO reduce.MergeManagerImpl: MergerManager: memoryLimit=2382574336, maxSingleShuffleLimit=595643584, mergeThreshold=1572499072, ioSortFactor=10, memToMemMergeOutputsThreshold=10\n",
            "2024-04-15 06:26:40,069 INFO reduce.EventFetcher: attempt_local235481873_0001_r_000000_0 Thread started: EventFetcher for fetching Map Completion Events\n",
            "2024-04-15 06:26:40,106 INFO mapreduce.Job: Job job_local235481873_0001 running in uber mode : false\n",
            "2024-04-15 06:26:40,110 INFO mapreduce.Job:  map 100% reduce 0%\n",
            "2024-04-15 06:26:40,146 INFO reduce.LocalFetcher: localfetcher#1 about to shuffle output of map attempt_local235481873_0001_m_000000_0 decomp: 16560 len: 16564 to MEMORY\n",
            "2024-04-15 06:26:40,152 INFO reduce.InMemoryMapOutput: Read 16560 bytes from map-output for attempt_local235481873_0001_m_000000_0\n",
            "2024-04-15 06:26:40,158 INFO reduce.MergeManagerImpl: closeInMemoryFile -> map-output of size: 16560, inMemoryMapOutputs.size() -> 1, commitMemory -> 0, usedMemory ->16560\n",
            "2024-04-15 06:26:40,160 INFO reduce.EventFetcher: EventFetcher is interrupted.. Returning\n",
            "2024-04-15 06:26:40,161 INFO mapred.LocalJobRunner: 1 / 1 copied.\n",
            "2024-04-15 06:26:40,162 INFO reduce.MergeManagerImpl: finalMerge called with 1 in-memory map-outputs and 0 on-disk map-outputs\n",
            "2024-04-15 06:26:40,171 INFO mapred.Merger: Merging 1 sorted segments\n",
            "2024-04-15 06:26:40,171 INFO mapred.Merger: Down to the last merge-pass, with 1 segments left of total size: 16553 bytes\n",
            "2024-04-15 06:26:40,191 INFO reduce.MergeManagerImpl: Merged 1 segments, 16560 bytes to disk to satisfy reduce memory limit\n",
            "2024-04-15 06:26:40,194 INFO reduce.MergeManagerImpl: Merging 1 files, 16564 bytes from disk\n",
            "2024-04-15 06:26:40,195 INFO reduce.MergeManagerImpl: Merging 0 segments, 0 bytes from memory into reduce\n",
            "2024-04-15 06:26:40,195 INFO mapred.Merger: Merging 1 sorted segments\n",
            "2024-04-15 06:26:40,198 INFO mapred.Merger: Down to the last merge-pass, with 1 segments left of total size: 16553 bytes\n",
            "2024-04-15 06:26:40,200 INFO mapred.LocalJobRunner: 1 / 1 copied.\n",
            "2024-04-15 06:26:40,215 INFO streaming.PipeMapRed: PipeMapRed exec [/usr/local/bin/python, red.py]\n",
            "2024-04-15 06:26:40,221 INFO Configuration.deprecation: mapred.job.tracker is deprecated. Instead, use mapreduce.jobtracker.address\n",
            "2024-04-15 06:26:40,227 INFO Configuration.deprecation: mapred.map.tasks is deprecated. Instead, use mapreduce.job.maps\n",
            "2024-04-15 06:26:40,280 INFO streaming.PipeMapRed: R/W/S=1/0/0 in:NA [rec/s] out:NA [rec/s]\n",
            "2024-04-15 06:26:40,281 INFO streaming.PipeMapRed: R/W/S=10/0/0 in:NA [rec/s] out:NA [rec/s]\n",
            "2024-04-15 06:26:40,282 INFO streaming.PipeMapRed: R/W/S=100/0/0 in:NA [rec/s] out:NA [rec/s]\n",
            "2024-04-15 06:26:40,290 INFO streaming.PipeMapRed: R/W/S=1000/0/0 in:NA [rec/s] out:NA [rec/s]\n",
            "2024-04-15 06:26:40,361 INFO streaming.PipeMapRed: Records R/W=1309/1\n",
            "2024-04-15 06:26:40,365 INFO streaming.PipeMapRed: MRErrorThread done\n",
            "2024-04-15 06:26:40,366 INFO streaming.PipeMapRed: mapRedFinished\n",
            "2024-04-15 06:26:40,367 INFO mapred.Task: Task:attempt_local235481873_0001_r_000000_0 is done. And is in the process of committing\n",
            "2024-04-15 06:26:40,368 INFO mapred.LocalJobRunner: 1 / 1 copied.\n",
            "2024-04-15 06:26:40,368 INFO mapred.Task: Task attempt_local235481873_0001_r_000000_0 is allowed to commit now\n",
            "2024-04-15 06:26:40,370 INFO output.FileOutputCommitter: Saved output of task 'attempt_local235481873_0001_r_000000_0' to file:/content/output/sales\n",
            "2024-04-15 06:26:40,375 INFO mapred.LocalJobRunner: Records R/W=1309/1 > reduce\n",
            "2024-04-15 06:26:40,375 INFO mapred.Task: Task 'attempt_local235481873_0001_r_000000_0' done.\n",
            "2024-04-15 06:26:40,376 INFO mapred.Task: Final Counters for attempt_local235481873_0001_r_000000_0: Counters: 24\n",
            "\tFile System Counters\n",
            "\t\tFILE: Number of bytes read=8564544\n",
            "\t\tFILE: Number of bytes written=817181\n",
            "\t\tFILE: Number of read operations=0\n",
            "\t\tFILE: Number of large read operations=0\n",
            "\t\tFILE: Number of write operations=0\n",
            "\tMap-Reduce Framework\n",
            "\t\tCombine input records=0\n",
            "\t\tCombine output records=0\n",
            "\t\tReduce input groups=4\n",
            "\t\tReduce shuffle bytes=16564\n",
            "\t\tReduce input records=1309\n",
            "\t\tReduce output records=4\n",
            "\t\tSpilled Records=1309\n",
            "\t\tShuffled Maps =1\n",
            "\t\tFailed Shuffles=0\n",
            "\t\tMerged Map outputs=1\n",
            "\t\tGC time elapsed (ms)=25\n",
            "\t\tTotal committed heap usage (bytes)=329252864\n",
            "\tShuffle Errors\n",
            "\t\tBAD_ID=0\n",
            "\t\tCONNECTION=0\n",
            "\t\tIO_ERROR=0\n",
            "\t\tWRONG_LENGTH=0\n",
            "\t\tWRONG_MAP=0\n",
            "\t\tWRONG_REDUCE=0\n",
            "\tFile Output Format Counters \n",
            "\t\tBytes Written=67\n",
            "2024-04-15 06:26:40,376 INFO mapred.LocalJobRunner: Finishing task: attempt_local235481873_0001_r_000000_0\n",
            "2024-04-15 06:26:40,376 INFO mapred.LocalJobRunner: reduce task executor complete.\n",
            "2024-04-15 06:26:41,112 INFO mapreduce.Job:  map 100% reduce 100%\n",
            "2024-04-15 06:26:41,113 INFO mapreduce.Job: Job job_local235481873_0001 completed successfully\n",
            "2024-04-15 06:26:41,124 INFO mapreduce.Job: Counters: 30\n",
            "\tFile System Counters\n",
            "\t\tFILE: Number of bytes read=17095928\n",
            "\t\tFILE: Number of bytes written=1617731\n",
            "\t\tFILE: Number of read operations=0\n",
            "\t\tFILE: Number of large read operations=0\n",
            "\t\tFILE: Number of write operations=0\n",
            "\tMap-Reduce Framework\n",
            "\t\tMap input records=34787\n",
            "\t\tMap output records=1309\n",
            "\t\tMap output bytes=13940\n",
            "\t\tMap output materialized bytes=16564\n",
            "\t\tInput split bytes=89\n",
            "\t\tCombine input records=0\n",
            "\t\tCombine output records=0\n",
            "\t\tReduce input groups=4\n",
            "\t\tReduce shuffle bytes=16564\n",
            "\t\tReduce input records=1309\n",
            "\t\tReduce output records=4\n",
            "\t\tSpilled Records=2618\n",
            "\t\tShuffled Maps =1\n",
            "\t\tFailed Shuffles=0\n",
            "\t\tMerged Map outputs=1\n",
            "\t\tGC time elapsed (ms)=25\n",
            "\t\tTotal committed heap usage (bytes)=658505728\n",
            "\tShuffle Errors\n",
            "\t\tBAD_ID=0\n",
            "\t\tCONNECTION=0\n",
            "\t\tIO_ERROR=0\n",
            "\t\tWRONG_LENGTH=0\n",
            "\t\tWRONG_MAP=0\n",
            "\t\tWRONG_REDUCE=0\n",
            "\tFile Input Format Counters \n",
            "\t\tBytes Read=8388608\n",
            "\tFile Output Format Counters \n",
            "\t\tBytes Written=67\n",
            "2024-04-15 06:26:41,125 INFO streaming.StreamJob: Output directory: /content/output/sales\n"
          ]
        }
      ]
    }
  ]
}